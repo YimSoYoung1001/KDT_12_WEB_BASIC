{
 "cells": [
  {
   "cell_type": "markdown",
   "metadata": {},
   "source": [
    "#### [ Pytorch 기반 회귀 모델 구현 ]\n",
    "- Layer => Full-Connected Layer, Linear \n",
    "- 손실함수 : MSELoss, MAELoss ... "
   ]
  },
  {
   "cell_type": "markdown",
   "metadata": {},
   "source": [
    "- [1] 데이터 준비 <hr>"
   ]
  },
  {
   "cell_type": "code",
   "metadata": {
    "ExecuteTime": {
     "end_time": "2024-04-11T10:22:39.565530Z",
     "start_time": "2024-04-11T10:22:39.533815Z"
    }
   },
   "source": [
    "import pandas as pd"
   ],
   "outputs": [],
   "execution_count": 345
  },
  {
   "cell_type": "code",
   "metadata": {
    "ExecuteTime": {
     "end_time": "2024-04-11T10:22:39.692087Z",
     "start_time": "2024-04-11T10:22:39.660573Z"
    }
   },
   "source": [
    "file = pd.read_csv('../../data/BostonHousing.csv')\n",
    "file.head()"
   ],
   "outputs": [
    {
     "data": {
      "text/plain": [
       "      crim    zn  indus  chas    nox     rm   age     dis  rad  tax  ptratio  \\\n",
       "0  0.00632  18.0   2.31     0  0.538  6.575  65.2  4.0900    1  296     15.3   \n",
       "1  0.02731   0.0   7.07     0  0.469  6.421  78.9  4.9671    2  242     17.8   \n",
       "2  0.02729   0.0   7.07     0  0.469  7.185  61.1  4.9671    2  242     17.8   \n",
       "3  0.03237   0.0   2.18     0  0.458  6.998  45.8  6.0622    3  222     18.7   \n",
       "4  0.06905   0.0   2.18     0  0.458  7.147  54.2  6.0622    3  222     18.7   \n",
       "\n",
       "        b  lstat  medv  \n",
       "0  396.90   4.98  24.0  \n",
       "1  396.90   9.14  21.6  \n",
       "2  392.83   4.03  34.7  \n",
       "3  394.63   2.94  33.4  \n",
       "4  396.90   5.33  36.2  "
      ],
      "text/html": [
       "<div>\n",
       "<style scoped>\n",
       "    .dataframe tbody tr th:only-of-type {\n",
       "        vertical-align: middle;\n",
       "    }\n",
       "\n",
       "    .dataframe tbody tr th {\n",
       "        vertical-align: top;\n",
       "    }\n",
       "\n",
       "    .dataframe thead th {\n",
       "        text-align: right;\n",
       "    }\n",
       "</style>\n",
       "<table border=\"1\" class=\"dataframe\">\n",
       "  <thead>\n",
       "    <tr style=\"text-align: right;\">\n",
       "      <th></th>\n",
       "      <th>crim</th>\n",
       "      <th>zn</th>\n",
       "      <th>indus</th>\n",
       "      <th>chas</th>\n",
       "      <th>nox</th>\n",
       "      <th>rm</th>\n",
       "      <th>age</th>\n",
       "      <th>dis</th>\n",
       "      <th>rad</th>\n",
       "      <th>tax</th>\n",
       "      <th>ptratio</th>\n",
       "      <th>b</th>\n",
       "      <th>lstat</th>\n",
       "      <th>medv</th>\n",
       "    </tr>\n",
       "  </thead>\n",
       "  <tbody>\n",
       "    <tr>\n",
       "      <th>0</th>\n",
       "      <td>0.00632</td>\n",
       "      <td>18.0</td>\n",
       "      <td>2.31</td>\n",
       "      <td>0</td>\n",
       "      <td>0.538</td>\n",
       "      <td>6.575</td>\n",
       "      <td>65.2</td>\n",
       "      <td>4.0900</td>\n",
       "      <td>1</td>\n",
       "      <td>296</td>\n",
       "      <td>15.3</td>\n",
       "      <td>396.90</td>\n",
       "      <td>4.98</td>\n",
       "      <td>24.0</td>\n",
       "    </tr>\n",
       "    <tr>\n",
       "      <th>1</th>\n",
       "      <td>0.02731</td>\n",
       "      <td>0.0</td>\n",
       "      <td>7.07</td>\n",
       "      <td>0</td>\n",
       "      <td>0.469</td>\n",
       "      <td>6.421</td>\n",
       "      <td>78.9</td>\n",
       "      <td>4.9671</td>\n",
       "      <td>2</td>\n",
       "      <td>242</td>\n",
       "      <td>17.8</td>\n",
       "      <td>396.90</td>\n",
       "      <td>9.14</td>\n",
       "      <td>21.6</td>\n",
       "    </tr>\n",
       "    <tr>\n",
       "      <th>2</th>\n",
       "      <td>0.02729</td>\n",
       "      <td>0.0</td>\n",
       "      <td>7.07</td>\n",
       "      <td>0</td>\n",
       "      <td>0.469</td>\n",
       "      <td>7.185</td>\n",
       "      <td>61.1</td>\n",
       "      <td>4.9671</td>\n",
       "      <td>2</td>\n",
       "      <td>242</td>\n",
       "      <td>17.8</td>\n",
       "      <td>392.83</td>\n",
       "      <td>4.03</td>\n",
       "      <td>34.7</td>\n",
       "    </tr>\n",
       "    <tr>\n",
       "      <th>3</th>\n",
       "      <td>0.03237</td>\n",
       "      <td>0.0</td>\n",
       "      <td>2.18</td>\n",
       "      <td>0</td>\n",
       "      <td>0.458</td>\n",
       "      <td>6.998</td>\n",
       "      <td>45.8</td>\n",
       "      <td>6.0622</td>\n",
       "      <td>3</td>\n",
       "      <td>222</td>\n",
       "      <td>18.7</td>\n",
       "      <td>394.63</td>\n",
       "      <td>2.94</td>\n",
       "      <td>33.4</td>\n",
       "    </tr>\n",
       "    <tr>\n",
       "      <th>4</th>\n",
       "      <td>0.06905</td>\n",
       "      <td>0.0</td>\n",
       "      <td>2.18</td>\n",
       "      <td>0</td>\n",
       "      <td>0.458</td>\n",
       "      <td>7.147</td>\n",
       "      <td>54.2</td>\n",
       "      <td>6.0622</td>\n",
       "      <td>3</td>\n",
       "      <td>222</td>\n",
       "      <td>18.7</td>\n",
       "      <td>396.90</td>\n",
       "      <td>5.33</td>\n",
       "      <td>36.2</td>\n",
       "    </tr>\n",
       "  </tbody>\n",
       "</table>\n",
       "</div>"
      ]
     },
     "execution_count": 346,
     "metadata": {},
     "output_type": "execute_result"
    }
   ],
   "execution_count": 346
  },
  {
   "cell_type": "code",
   "metadata": {
    "ExecuteTime": {
     "end_time": "2024-04-11T10:22:39.723938Z",
     "start_time": "2024-04-11T10:22:39.708766Z"
    }
   },
   "source": [
    "dataDF = file.loc[:, file.columns[:-1]]\n",
    "dataDF.shape"
   ],
   "outputs": [
    {
     "data": {
      "text/plain": [
       "(506, 13)"
      ]
     },
     "execution_count": 347,
     "metadata": {},
     "output_type": "execute_result"
    }
   ],
   "execution_count": 347
  },
  {
   "cell_type": "code",
   "metadata": {
    "ExecuteTime": {
     "end_time": "2024-04-11T10:22:39.771443Z",
     "start_time": "2024-04-11T10:22:39.755396Z"
    }
   },
   "source": [
    "labelSR = file[file.columns[-1]]\n",
    "labelSR.shape"
   ],
   "outputs": [
    {
     "data": {
      "text/plain": [
       "(506,)"
      ]
     },
     "execution_count": 348,
     "metadata": {},
     "output_type": "execute_result"
    }
   ],
   "execution_count": 348
  },
  {
   "cell_type": "markdown",
   "metadata": {},
   "source": [
    "- [2] 사용자 데이터셋 클래스 정의 <hr>"
   ]
  },
  {
   "cell_type": "code",
   "metadata": {
    "ExecuteTime": {
     "end_time": "2024-04-11T10:22:39.819158Z",
     "start_time": "2024-04-11T10:22:39.803375Z"
    }
   },
   "source": [
    "import torch\n",
    "import torch.nn as nn\n",
    "import torch.nn.functional as F\n",
    "from torch.utils.data import Dataset, DataLoader, random_split\n",
    "import numpy as np"
   ],
   "outputs": [],
   "execution_count": 349
  },
  {
   "cell_type": "code",
   "metadata": {
    "ExecuteTime": {
     "end_time": "2024-04-11T10:22:39.946508Z",
     "start_time": "2024-04-11T10:22:39.930572Z"
    }
   },
   "source": [
    "### 클래스 정의\n",
    "\n",
    "# 이거는 정하기 나름이다. 클래스 안에서 전처리를 해도 되고 밖에서 해도 되고~ \n",
    "class BostonDS(Dataset):\n",
    "    # 데이터 전처리 => 정규화 , 텐서화\n",
    "    def __init__(self, feature, target):\n",
    "        super().__init__()\n",
    "        self.feature = torch.FloatTensor(feature)\n",
    "        self.target = torch.FloatTensor(target)\n",
    "        self.length = self.feature.shape[0] \n",
    "        self.norm_feature = self.normalization()\n",
    "        self.norm_target = self.normalization()\n",
    "\n",
    "    def __len__(self):\n",
    "        return self.length\n",
    "    \n",
    "    def __getitem__(self, index):\n",
    "        return self.feature[index], self.target[index]\n",
    "    \n",
    "    # 데이터 정규화 기능 함수\n",
    "    def normalization(self):\n",
    "        self.feature.max(dim=1)"
   ],
   "outputs": [],
   "execution_count": 350
  },
  {
   "cell_type": "code",
   "metadata": {
    "ExecuteTime": {
     "end_time": "2024-04-11T10:22:40.009782Z",
     "start_time": "2024-04-11T10:22:39.993744Z"
    }
   },
   "source": [
    "labelDF = labelSR.to_frame()"
   ],
   "outputs": [],
   "execution_count": 351
  },
  {
   "cell_type": "code",
   "metadata": {
    "ExecuteTime": {
     "end_time": "2024-04-11T10:22:40.025677Z",
     "start_time": "2024-04-11T10:22:40.011044Z"
    }
   },
   "source": [
    "data_array = np.array(dataDF)\n",
    "label_array = np.array(labelSR)"
   ],
   "outputs": [],
   "execution_count": 352
  },
  {
   "cell_type": "code",
   "metadata": {
    "ExecuteTime": {
     "end_time": "2024-04-11T10:22:40.041479Z",
     "start_time": "2024-04-11T10:22:40.025677Z"
    }
   },
   "source": [
    "boston_DS = BostonDS(data_array, label_array)"
   ],
   "outputs": [],
   "execution_count": 353
  },
  {
   "cell_type": "code",
   "metadata": {
    "ExecuteTime": {
     "end_time": "2024-04-11T10:22:40.057264Z",
     "start_time": "2024-04-11T10:22:40.041479Z"
    }
   },
   "source": [
    "len(boston_DS)"
   ],
   "outputs": [
    {
     "data": {
      "text/plain": [
       "506"
      ]
     },
     "execution_count": 354,
     "metadata": {},
     "output_type": "execute_result"
    }
   ],
   "execution_count": 354
  },
  {
   "cell_type": "code",
   "metadata": {
    "ExecuteTime": {
     "end_time": "2024-04-11T10:22:40.072933Z",
     "start_time": "2024-04-11T10:22:40.057264Z"
    }
   },
   "source": [
    "train_size = int(len(boston_DS)*0.8)\n",
    "val_size = int(len(boston_DS)*0.1)\n",
    "test_size = int(len(boston_DS) - train_size - val_size)\n",
    "print(train_size, val_size, test_size)"
   ],
   "outputs": [
    {
     "name": "stdout",
     "output_type": "stream",
     "text": [
      "404 50 52\n"
     ]
    }
   ],
   "execution_count": 355
  },
  {
   "cell_type": "code",
   "metadata": {
    "ExecuteTime": {
     "end_time": "2024-04-11T10:22:40.123502Z",
     "start_time": "2024-04-11T10:22:40.107755Z"
    }
   },
   "source": "train_dataset, val_dataset, test_dataset = random_split(boston_DS, [train_size, val_size, test_size])",
   "outputs": [],
   "execution_count": 356
  },
  {
   "cell_type": "code",
   "metadata": {
    "ExecuteTime": {
     "end_time": "2024-04-11T10:22:40.177657Z",
     "start_time": "2024-04-11T10:22:40.161792Z"
    }
   },
   "source": [
    "BATCH = 26\n",
    "train_DL = DataLoader(train_dataset, batch_size = BATCH, shuffle = True)\n",
    "val_DL = DataLoader(val_dataset, batch_size= BATCH, shuffle = True)\n",
    "test_DL = DataLoader(test_dataset, batch_size = BATCH, shuffle = True)"
   ],
   "outputs": [],
   "execution_count": 357
  },
  {
   "cell_type": "markdown",
   "metadata": {},
   "source": [
    "- [3] 모델 생성"
   ]
  },
  {
   "cell_type": "code",
   "metadata": {
    "ExecuteTime": {
     "end_time": "2024-04-11T10:22:40.193288Z",
     "start_time": "2024-04-11T10:22:40.177657Z"
    }
   },
   "source": [
    "class my_model(nn.Module):\n",
    "    def __init__(self, in_, out_):\n",
    "        super().__init__()\n",
    "        self.layer1 = nn.Linear(in_, 20)\n",
    "        self.layer2 = nn.Linear(20, 15)\n",
    "        self.layer4 = nn.Linear(15, out_)\n",
    "        self.relu = nn.ReLU()\n",
    "    \n",
    "    def forward(self, k):\n",
    "        k = self.layer1(k)\n",
    "        k = self.relu(k)\n",
    "        k = self.layer2(k)\n",
    "        k = self.relu(k)\n",
    "        k = self.layer4(k)\n",
    "        total_k = self.relu(k)\n",
    "        return total_k"
   ],
   "outputs": [],
   "execution_count": 358
  },
  {
   "metadata": {},
   "cell_type": "markdown",
   "source": "##### super().__init__()을 하는것을 잊지말자."
  },
  {
   "metadata": {
    "ExecuteTime": {
     "end_time": "2024-04-11T10:22:40.224613Z",
     "start_time": "2024-04-11T10:22:40.193288Z"
    }
   },
   "cell_type": "code",
   "source": "dataDF.shape[1]",
   "outputs": [
    {
     "data": {
      "text/plain": [
       "13"
      ]
     },
     "execution_count": 359,
     "metadata": {},
     "output_type": "execute_result"
    }
   ],
   "execution_count": 359
  },
  {
   "cell_type": "markdown",
   "metadata": {},
   "source": [
    "- [4] 학습을 위한 변수 선언"
   ]
  },
  {
   "cell_type": "code",
   "metadata": {
    "ExecuteTime": {
     "end_time": "2024-04-11T10:22:40.272301Z",
     "start_time": "2024-04-11T10:22:40.240716Z"
    }
   },
   "source": [
    "import torch.optim as optim\n",
    "IN, OUT = dataDF.shape[1], 1\n",
    "EPOCH = 1000\n",
    "\n",
    "device = 'cuda' if torch.cuda.is_available() else 'cpu'   # 디바이스 설정\n",
    "model = my_model(IN, OUT).to(device)  # 모델 인스턴스 \n",
    "loss_fn = nn.MSELoss().to(device)  # 손실함수 \n",
    "optimizer = optim.Adam(model.parameters())  # 최적화를 위한 옵티마이저 인스턴스 생성"
   ],
   "outputs": [],
   "execution_count": 360
  },
  {
   "cell_type": "markdown",
   "metadata": {},
   "source": [
    "- [5] 함수 설정 (학습, 평가)"
   ]
  },
  {
   "metadata": {
    "ExecuteTime": {
     "end_time": "2024-04-11T10:22:40.288205Z",
     "start_time": "2024-04-11T10:22:40.272301Z"
    }
   },
   "cell_type": "code",
   "source": [
    "# !pip install torcheval\n",
    "from torcheval.metrics.functional import r2_score"
   ],
   "outputs": [],
   "execution_count": 361
  },
  {
   "cell_type": "code",
   "metadata": {
    "ExecuteTime": {
     "end_time": "2024-04-11T10:22:40.364651Z",
     "start_time": "2024-04-11T10:22:40.319005Z"
    }
   },
   "source": [
    "def training(dataloader):\n",
    "    model.train()\n",
    "    \n",
    "    loss_list = []\n",
    "    f1_list = []\n",
    "    # 학습 진행 (배치크기 만큼의 데이터 꺼내긔)\n",
    "    for (feature, label) in dataloader:\n",
    "        feature, label = feature.to(device), label.to(device)\n",
    "        \n",
    "        pred = model(feature)\n",
    "        pred = pred.squeeze(dim=1)\n",
    "        # print(f\"label.shape : {label.shape}    pred.shape : {pred.shape}\")\n",
    "        # 손실계산\n",
    "        loss = loss_fn(pred, label)\n",
    "        \n",
    "        # 업데이트\n",
    "        optimizer.zero_grad()\n",
    "        loss.backward()\n",
    "        optimizer.step()\n",
    "        \n",
    "        # 성과\n",
    "        f1 = r2_score(pred, label)\n",
    "        \n",
    "        loss_list.append(loss.item())\n",
    "        f1_list.append(f1.item())\n",
    "        \n",
    "    total_loss = round(sum(loss_list) / len(loss_list),3)\n",
    "    total_f1 = round(sum(f1_list) / len(f1_list),3)\n",
    "    # print(f\"loss => {total_loss}   f1 score : {total_f1}\")\n",
    "    return total_loss, total_f1\n",
    "\n",
    "training(train_DL)"
   ],
   "outputs": [
    {
     "data": {
      "text/plain": [
       "(375.152, -6.284)"
      ]
     },
     "execution_count": 362,
     "metadata": {},
     "output_type": "execute_result"
    }
   ],
   "execution_count": 362
  },
  {
   "metadata": {
    "ExecuteTime": {
     "end_time": "2024-04-11T10:22:40.380825Z",
     "start_time": "2024-04-11T10:22:40.364651Z"
    }
   },
   "cell_type": "code",
   "source": [
    "def testing(dataloader):\n",
    "    model.eval()\n",
    "    loss_list = []\n",
    "    f1_list = []\n",
    "    # 학습 진행 (배치크기 만큼의 데이터 꺼내긔)\n",
    "    for (feature, label) in dataloader:\n",
    "        feature, label = feature.to(device), label.to(device)\n",
    "        pred = model(feature)\n",
    "        pred = pred.squeeze(dim=1)\n",
    "        # 손실계산\n",
    "        loss = loss_fn(pred, label)   \n",
    "        # 성과\n",
    "        f1 = r2_score(pred, label)\n",
    "        \n",
    "        loss_list.append(loss.item())\n",
    "        f1_list.append(f1.item())\n",
    "        \n",
    "    total_loss = round(sum(loss_list) / len(loss_list),3)\n",
    "    total_f1 = round(sum(f1_list) / len(f1_list),3)\n",
    "    # print(f\"loss => {total_loss}   f1 score : {total_f1}\")\n",
    "    return total_loss, total_f1\n",
    "\n",
    "# testing(test_DL)"
   ],
   "outputs": [],
   "execution_count": 363
  },
  {
   "metadata": {},
   "cell_type": "markdown",
   "source": "- [6] 학습 진행"
  },
  {
   "metadata": {
    "ExecuteTime": {
     "end_time": "2024-04-11T10:22:59.351056Z",
     "start_time": "2024-04-11T10:22:40.381433Z"
    }
   },
   "cell_type": "code",
   "source": [
    "train_list = [[], []]\n",
    "test_list = [[], []]\n",
    "for epo in range(EPOCH):\n",
    "    tr_loss, tr_f1 = training(train_DL)\n",
    "    train_list[0].append(tr_loss)\n",
    "    train_list[1].append(tr_f1)\n",
    "    ts_loss, ts_f1 = testing(val_DL)\n",
    "    test_list[0].append(ts_loss)\n",
    "    test_list[1].append(ts_f1)\n",
    "    print('.', end = ' ')"
   ],
   "outputs": [
    {
     "name": "stdout",
     "output_type": "stream",
     "text": [
      ". . . . . . . . . . . . . . . . . . . . . . . . . . . . . . . . . . . . . . . . . . . . . . . . . . . . . . . . . . . . . . . . . . . . . . . . . . . . . . . . . . . . . . . . . . . . . . . . . . . . . . . . . . . . . . . . . . . . . . . . . . . . . . . . . . . . . . . . . . . . . . . . . . . . . . . . . . . . . . . . . . . . . . . . . . . . . . . . . . . . . . . . . . . . . . . . . . . . . . . . . . . . . . . . . . . . . . . . . . . . . . . . . . . . . . . . . . . . . . . . . . . . . . . . . . . . . . . . . . . . . . . . . . . . . . . . . . . . . . . . . . . . . . . . . . . . . . . . . . . . . . . . . . . . . . . . . . . . . . . . . . . . . . . . . . . . . . . . . . . . . . . . . . . . . . . . . . . . . . . . . . . . . . . . . . . . . . . . . . . . . . . . . . . . . . . . . . . . . . . . . . . . . . . . . . . . . . . . . . . . . . . . . . . . . . . . . . . . . . . . . . . . . . . . . . . . . . . . . . . . . . . . . . . . . . . . . . . . . . . . . . . . . . . . . . . . . . . . . . . . . . . . . . . . . . . . . . . . . . . . . . . . . . . . . . . . . . . . . . . . . . . . . . . . . . . . . . . . . . . . . . . . . . . . . . . . . . . . . . . . . . . . . . . . . . . . . . . . . . . . . . . . . . . . . . . . . . . . . . . . . . . . . . . . . . . . . . . . . . . . . . . . . . . . . . . . . . . . . . . . . . . . . . . . . . . . . . . . . . . . . . . . . . . . . . . . . . . . . . . . . . . . . . . . . . . . . . . . . . . . . . . . . . . . . . . . . . . . . . . . . . . . . . . . . . . . . . . . . . . . . . . . . . . . . . . . . . . . . . . . . . . . . . . . . . . . . . . . . . . . . . . . . . . . . . . . . . . . . . . . . . . . . . . . . . . . . . . . . . . . . . . . . . . . . . . . . . . . . . . . . . . . . . . . . . . . . . . . . . . . . . . . . . . . . . . . . . . . . . . . . . . . . . . . . . . . . . . . . . . . . . . . . . . . . . . . . . . . . . . . . . . . . . . . . . . . . . . . . . . . . . . . . . . . . . . . . . . . . . . . . . . . . . . . . . . . . . . . . . . . "
     ]
    }
   ],
   "execution_count": 364
  },
  {
   "metadata": {
    "ExecuteTime": {
     "end_time": "2024-04-11T10:22:59.366883Z",
     "start_time": "2024-04-11T10:22:59.351056Z"
    }
   },
   "cell_type": "code",
   "source": "epoch_list = [k for k in range(EPOCH)]",
   "outputs": [],
   "execution_count": 365
  },
  {
   "metadata": {
    "ExecuteTime": {
     "end_time": "2024-04-11T10:22:59.685066Z",
     "start_time": "2024-04-11T10:22:59.366883Z"
    }
   },
   "cell_type": "code",
   "source": [
    "# 시각화\n",
    "import matplotlib.pyplot as plt\n",
    "plt.figure(figsize = (10,5))\n",
    "\n",
    "plt.subplot(1,2,1)\n",
    "plt.plot(epoch_list, train_list[0], label = 'train_loss')\n",
    "plt.plot(epoch_list, test_list[0], label = 'test_loss')\n",
    "plt.title('loss')\n",
    "plt.legend()\n",
    "\n",
    "plt.subplot(1,2,2)\n",
    "plt.plot(epoch_list, train_list[1], label = 'train_r2_score')\n",
    "plt.plot(epoch_list, test_list[1], label = 'test_r2_score')\n",
    "plt.title('r2 score')\n",
    "plt.legend()\n",
    "\n",
    "plt.tight_layout()\n",
    "plt.show()"
   ],
   "outputs": [
    {
     "data": {
      "text/plain": [
       "<Figure size 1000x500 with 2 Axes>"
      ],
      "image/png": "[encoded data removed]"
     },
     "metadata": {},
     "output_type": "display_data"
    }
   ],
   "execution_count": 366
  },
  {
   "metadata": {},
   "cell_type": "markdown",
   "source": "- (7) 예측"
  },
  {
   "metadata": {
    "ExecuteTime": {
     "end_time": "2024-04-11T10:22:59.703858Z",
     "start_time": "2024-04-11T10:22:59.688153Z"
    }
   },
   "cell_type": "code",
   "source": [
    "def predicting(dataloader):\n",
    "    model.eval()\n",
    "    pred_list = []\n",
    "    count = 1\n",
    "    # 학습 진행 (배치크기 만큼의 데이터 꺼내긔)\n",
    "    for (feature, label) in dataloader:\n",
    "        feature, label = feature.to(device), label.to(device)\n",
    "        pred = model(feature)\n",
    "        pred = pred.squeeze(dim=1)\n",
    "        pred_list.append(pred)\n",
    "        print(f\"============={count}=============\")\n",
    "        print(f\"label\\n{label}\")\n",
    "        print(f\"pred\\n{pred}\")\n",
    "        count +=1\n",
    "predicting(test_DL)"
   ],
   "outputs": [
    {
     "name": "stdout",
     "output_type": "stream",
     "text": [
      "=============1=============\n",
      "label\n",
      "tensor([24.7000, 15.0000, 19.8000, 16.1000, 15.2000, 25.3000, 27.0000, 22.8000,\n",
      "        21.4000, 22.4000, 16.6000, 23.1000, 34.9000, 23.5000, 11.8000, 33.4000,\n",
      "        50.0000, 21.9000, 19.4000, 18.5000, 18.5000, 20.6000, 50.0000, 50.0000,\n",
      "        45.4000, 23.7000])\n",
      "pred\n",
      "tensor([24.2031, 30.2728, 22.0419, 18.7960, 18.9701, 25.2102, 37.7283, 26.4720,\n",
      "        24.4573, 21.5327, 19.5106, 25.1498, 36.9017, 33.8049, 13.8112, 40.8003,\n",
      "        28.0766, 20.6700, 22.8008, 18.5019, 24.1741, 21.2049, 58.3163, 46.0473,\n",
      "        45.7067, 29.4410], grad_fn=<SqueezeBackward1>)\n",
      "=============2=============\n",
      "label\n",
      "tensor([14.9000, 29.9000, 33.8000, 13.0000, 20.3000, 27.5000, 19.3000, 32.2000,\n",
      "        13.9000, 26.4000, 15.2000, 17.1000, 24.2000, 23.8000, 14.4000, 27.9000,\n",
      "        19.6000, 18.9000, 22.5000, 13.1000, 10.5000, 11.8000, 18.0000, 28.7000,\n",
      "        46.0000, 20.6000])\n",
      "pred\n",
      "tensor([18.2080, 30.8542, 33.0994, 16.9767, 24.4298, 28.0076, 19.0758, 30.6018,\n",
      "        14.2560, 26.5307, 19.1457, 19.8645, 26.1823, 25.2352, 16.3604, 30.8542,\n",
      "        21.0524, 18.7537, 31.7627, 17.2679,  9.2761, 18.0880, 19.8150, 25.0224,\n",
      "        48.2817, 23.8433], grad_fn=<SqueezeBackward1>)\n"
     ]
    }
   ],
   "execution_count": 367
  },
  {
   "metadata": {
    "ExecuteTime": {
     "end_time": "2024-04-11T10:22:59.719892Z",
     "start_time": "2024-04-11T10:22:59.703858Z"
    }
   },
   "cell_type": "code",
   "source": "",
   "outputs": [],
   "execution_count": 367
  }
 ],
 "metadata": {
  "kernelspec": {
   "display_name": "Torch_PY38",
   "language": "python",
   "name": "python3"
  },
  "language_info": {
   "codemirror_mode": {
    "name": "ipython",
    "version": 3
   },
   "file_extension": ".py",
   "mimetype": "text/x-python",
   "name": "python",
   "nbconvert_exporter": "python",
   "pygments_lexer": "ipython3",
   "version": "3.8.19"
  }
 },
 "nbformat": 4,
 "nbformat_minor": 2
}
